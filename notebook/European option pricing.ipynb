{
 "cells": [
  {
   "cell_type": "code",
   "execution_count": 17,
   "id": "100befe5-c5d6-4912-8c1d-0727561c6399",
   "metadata": {},
   "outputs": [],
   "source": [
    "import numpy as np\n",
    "from scipy.stats import norm\n",
    "import math"
   ]
  },
  {
   "cell_type": "code",
   "execution_count": 18,
   "id": "5d0587d3-8651-4769-805b-d2254c2e63d6",
   "metadata": {},
   "outputs": [],
   "source": [
    "def binomial_option_pricing(S0,K,T,r,sigma,N,option_type='call'):\n",
    "    \"\"\"\n",
    "    European option price via binomial model\n",
    "    \n",
    "    Parameters:\n",
    "    S0 : Initial asset price (float)\n",
    "    K : Strike price (float)\n",
    "    T : Maturity time in years (float)\n",
    "    r : Risk free interest rate (float)\n",
    "    sigma : Volatility of the asset (float)\n",
    "    N : Number of steps in the binomial tree model (int)\n",
    "    option_type : Type of the option 'call' or 'put' (str)\n",
    "    \n",
    "    Returns: The price of the option (float)\n",
    "    \"\"\"\n",
    "\n",
    "    # time step\n",
    "    dt=T/N\n",
    "    # up and down factors\n",
    "    u=np.exp(sigma * np.sqrt(dt))\n",
    "    d=1/u\n",
    "    # risk-neutral probability\n",
    "    p=(np.exp(r*dt)-d)/(u-d)\n",
    "    # computing asset prices and corresponding probabilities at the last step\n",
    "    asset_prices=np.array([])\n",
    "    asset_prob=np.array([])\n",
    "    for i in range(0, N + 1):\n",
    "        asset_prices=np.append(asset_prices,S0*u**(N-i)*d**i)\n",
    "        asset_prob=np.append(asset_prob,math.comb(N,i)* p**(N-i)*(1-p)**i)\n",
    "\n",
    "    # net option values at last step\n",
    "    if option_type=='call':\n",
    "        option_values=np.maximum(0,asset_prices-K)\n",
    "    elif option_type=='put':\n",
    "        option_values=np.maximum(0,K-asset_prices)\n",
    "\n",
    "    # option price\n",
    "    bi_option_value=np.exp(-r*T)*np.dot(option_values,asset_prob)\n",
    "    return bi_option_value"
   ]
  },
  {
   "cell_type": "code",
   "execution_count": 19,
   "id": "d56e9986-40b0-4200-b18e-826764a44c6f",
   "metadata": {},
   "outputs": [],
   "source": [
    "def monte_carlo_option_pricing(S0,K,T,r,sigma,N,num_sim,option_type='call'):\n",
    "    \"\"\"\n",
    "    European option price via Monte Carlo method\n",
    "\n",
    "    Parameters:\n",
    "    S0: Initial stock price (float)\n",
    "    K: Strike price (float)\n",
    "    T: Time to maturity (float)\n",
    "    r: Risk free interest rate (float)\n",
    "    sigma: Volatility of the asset (float)\n",
    "    N: Number of time steps (int)\n",
    "    num_sim: Number of simulations (int)\n",
    "    option_type: Type of the option 'call' or 'put' (str)\n",
    "\n",
    "    Returns: The price of the option (float)\n",
    "    \"\"\"\n",
    "    # time step\n",
    "    dt=T/N\n",
    "    # simulation of the asset price\n",
    "    asset_path=np.zeros((num_sim,N+1))\n",
    "    asset_path[:,0]=S0\n",
    "    for i in range(1,N+1):\n",
    "        Z=np.random.standard_normal(num_sim)\n",
    "        asset_path[:,i]=asset_path[:,i-1]*np.exp((r-0.5*sigma**2)*dt+sigma*np.sqrt(dt)*Z)\n",
    "    if option_type=='call':\n",
    "        payoffs=np.maximum(asset_path[:,-1]-K,0)\n",
    "    elif option_type=='put':\n",
    "        payoffs=np.maximum(K-asset_path[:,-1],0)\n",
    "\n",
    "    # option price\n",
    "    mc_option_value=np.exp(-r*T)*np.mean(payoffs)\n",
    "    return mc_option_value"
   ]
  },
  {
   "cell_type": "code",
   "execution_count": 20,
   "id": "a88213b7-fc66-48aa-89a0-49ce8b72daf7",
   "metadata": {},
   "outputs": [],
   "source": [
    "def black_scholes_option_pricing(S0,K,T,r,sigma,option_type='call'):\n",
    "    \"\"\"\n",
    "    European option price via Black Scholes model\n",
    "\n",
    "    Parameters:\n",
    "    S0: Initial stock price (float)\n",
    "    K: Strike price (float)\n",
    "    T: Time to maturity (float)\n",
    "    r: Risk free interest rate (float)\n",
    "    sigma: Volatility of the asset (float)\n",
    "    option_type: Type of the option 'call' or 'put' (str)\n",
    "\n",
    "    Returns: The price of the option (float)\n",
    "    \"\"\"\n",
    "    \n",
    "    # calculate d1 and d2\n",
    "    d1=(np.log(S0/K)+(r+0.5*sigma**2)*T)/(sigma*np.sqrt(T))\n",
    "    d2=d1-sigma*np.sqrt(T)\n",
    "    \n",
    "    # option value\n",
    "    if option_type=='call':\n",
    "        bs_option_value=S0*norm.cdf(d1)-K*np.exp(-r*T)*norm.cdf(d2)\n",
    "    elif option_type=='put':\n",
    "        bs_option_value=K*np.exp(-r*T)*norm.cdf(-d2)-S0*norm.cdf(-d1)\n",
    "    \n",
    "    return bs_option_value"
   ]
  },
  {
   "cell_type": "code",
   "execution_count": 23,
   "id": "914e2d7a-4477-4446-8bd8-73fb2f168104",
   "metadata": {},
   "outputs": [
    {
     "name": "stdout",
     "output_type": "stream",
     "text": [
      "Binomial model: Call option price: 2.512 and Put option price: 9.302\n",
      "Monte Carlo method: Call option price: 2.509 and Put option price: 9.335\n",
      "Black Scholes model: Call option price: 2.510 and Put option price: 9.301\n"
     ]
    }
   ],
   "source": [
    "# An example\n",
    "S0=120   # Initial stock price\n",
    "K=130    # Strike price\n",
    "T=0.5      # Maturity time (6 months)\n",
    "r=0.05   # Risk-free interest rate (5% per annum)\n",
    "sigma=0.15  # Volatility (15% per annum)\n",
    "N=500    # Number of steps\n",
    "num_sim=10000 # Number of simulations\n",
    "\n",
    "bi_call_price=binomial_option_pricing(S0,K,T,r,sigma,N,option_type='call')\n",
    "bi_put_price = binomial_option_pricing(S0,K,T,r,sigma,N,option_type='put')\n",
    "\n",
    "mc_call_price=monte_carlo_option_pricing(S0,K,T,r,sigma,N,num_sim,option_type='call')\n",
    "mc_put_price=monte_carlo_option_pricing(S0,K,T,r,sigma,N,num_sim,option_type='put')\n",
    "\n",
    "bs_call_price=black_scholes_option_pricing(S0,K,T,r,sigma,option_type='call')\n",
    "bs_put_price=black_scholes_option_pricing(S0,K,T,r,sigma,option_type='put')\n",
    "\n",
    "print(f\"Binomial model: Call option price: {bi_call_price:.3f} and Put option price: {bi_put_price:.3f}\")\n",
    "print(f\"Monte Carlo method: Call option price: {mc_call_price:.3f} and Put option price: {mc_put_price:.3f}\")\n",
    "print(f\"Black Scholes model: Call option price: {bs_call_price:.3f} and Put option price: {bs_put_price:.3f}\")"
   ]
  },
  {
   "cell_type": "code",
   "execution_count": null,
   "id": "bebea0ef-3bdb-448f-a2e5-0d81f83a467a",
   "metadata": {},
   "outputs": [],
   "source": []
  }
 ],
 "metadata": {
  "kernelspec": {
   "display_name": "Python 3 (ipykernel)",
   "language": "python",
   "name": "python3"
  },
  "language_info": {
   "codemirror_mode": {
    "name": "ipython",
    "version": 3
   },
   "file_extension": ".py",
   "mimetype": "text/x-python",
   "name": "python",
   "nbconvert_exporter": "python",
   "pygments_lexer": "ipython3",
   "version": "3.11.7"
  }
 },
 "nbformat": 4,
 "nbformat_minor": 5
}
