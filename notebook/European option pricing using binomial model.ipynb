{
 "cells": [
  {
   "cell_type": "code",
   "execution_count": 45,
   "id": "5d0587d3-8651-4769-805b-d2254c2e63d6",
   "metadata": {},
   "outputs": [],
   "source": [
    "import numpy as np\n",
    "import math\n",
    "\n",
    "def binomial_option_pricing(S0, K, T, r, sigma, N, option_type='call'):\n",
    "    \"\"\"\n",
    "    Price of a European option using the binomial model.\n",
    "    \n",
    "    Parameters:\n",
    "    S0 : float\n",
    "        Initial asset price\n",
    "    K : float\n",
    "        Strike price\n",
    "    T : float\n",
    "        Time to maturity\n",
    "    r : float\n",
    "        Risk-free interest rate\n",
    "    sigma : float\n",
    "        Volatility of the asset\n",
    "    N : int\n",
    "        Number of steps in the binomial tree model\n",
    "    option_type : str\n",
    "        Type of the option ('call' or 'put')\n",
    "    \n",
    "    Returns:\n",
    "    float\n",
    "        The price of the option\n",
    "    \"\"\"\n",
    "\n",
    "    # time step\n",
    "    dt = T / N\n",
    "    # up and down factors\n",
    "    u = np.exp(sigma * np.sqrt(dt))\n",
    "    d = 1 / u\n",
    "    # risk-neutral probability\n",
    "    p = (np.exp(r * dt) - d) / (u - d)\n",
    "\n",
    "    # Computing asset prices and corresponding probabilities at last step\n",
    "    asset_prices=np.zeros(N+1)\n",
    "    asset_prob=np.zeros(N+1)\n",
    "    for i in range(0, N + 1):\n",
    "        asset_prices=np.append(asset_prices,S0*u**(N-i)*d**i)\n",
    "        asset_prob=np.append(asset_prob,math.comb(N,i)* p**(N-i)*(1-p)**i)\n",
    "\n",
    "\n",
    "    # Net option values at last step\n",
    "    option_values = np.zeros(N + 1)\n",
    "    if option_type == 'call':\n",
    "        option_values = np.maximum(0, asset_prices - K)\n",
    "    elif option_type == 'put':\n",
    "        option_values = np.maximum(0, K - asset_prices)\n",
    "\n",
    "    # option price\n",
    "    option_value=np.exp(-r*T)*np.dot(option_values,asset_prob)\n",
    "\n",
    "    return option_value"
   ]
  },
  {
   "cell_type": "code",
   "execution_count": 46,
   "id": "914e2d7a-4477-4446-8bd8-73fb2f168104",
   "metadata": {},
   "outputs": [
    {
     "name": "stdout",
     "output_type": "stream",
     "text": [
      "Call option price: 10.430611662249095\n",
      "Put option price: 5.5535541123213426\n"
     ]
    }
   ],
   "source": [
    "# An example\n",
    "S0 = 100   # Initial stock price\n",
    "K = 100    # Strike price\n",
    "T = 1      # Time to maturity (1 year)\n",
    "r = 0.05   # Risk-free interest rate (5% per annum)\n",
    "sigma = 0.2  # Volatility (20% per annum)\n",
    "N = 100    # Number of steps\n",
    "\n",
    "call_price = binomial_option_pricing(S0, K, T, r, sigma, N, option_type='call')\n",
    "put_price = binomial_option_pricing(S0, K, T, r, sigma, N, option_type='put')\n",
    "\n",
    "print(f\"Call option price: {call_price:}\")\n",
    "print(f\"Put option price: {put_price:}\")"
   ]
  },
  {
   "cell_type": "code",
   "execution_count": null,
   "id": "db8eedc0-fdf9-4131-8b2b-9483f2d68ad3",
   "metadata": {},
   "outputs": [],
   "source": []
  }
 ],
 "metadata": {
  "kernelspec": {
   "display_name": "Python 3 (ipykernel)",
   "language": "python",
   "name": "python3"
  },
  "language_info": {
   "codemirror_mode": {
    "name": "ipython",
    "version": 3
   },
   "file_extension": ".py",
   "mimetype": "text/x-python",
   "name": "python",
   "nbconvert_exporter": "python",
   "pygments_lexer": "ipython3",
   "version": "3.11.7"
  }
 },
 "nbformat": 4,
 "nbformat_minor": 5
}
