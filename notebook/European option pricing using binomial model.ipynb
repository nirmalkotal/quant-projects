{
 "cells": [
  {
   "cell_type": "code",
   "execution_count": 7,
   "id": "5d0587d3-8651-4769-805b-d2254c2e63d6",
   "metadata": {},
   "outputs": [],
   "source": [
    "import numpy as np\n",
    "import math\n",
    "\n",
    "def binomial_option_pricing(S0,K,T,r,sigma,N,option_type='call'):\n",
    "    \"\"\"\n",
    "    European Option Price via Binomial Model\n",
    "    \n",
    "    Parameters:\n",
    "    S0 : Initial asset price (float)\n",
    "    K : Strike price (float)\n",
    "    T : Maturity time in years (float)\n",
    "    r : Risk free interest rate (float)\n",
    "    sigma : Volatility of the asset (float)\n",
    "    N : Number of steps in the binomial tree model (int)\n",
    "    option_type : Type of the option 'call' or 'put' (str)\n",
    "    \n",
    "    Returns: The price of the option (float)\n",
    "    \"\"\"\n",
    "\n",
    "    # time step\n",
    "    dt=T/N\n",
    "    # up and down factors\n",
    "    u=np.exp(sigma * np.sqrt(dt))\n",
    "    d=1/u\n",
    "    # risk-neutral probability\n",
    "    p=(np.exp(r*dt)-d)/(u-d)\n",
    "    # Computing asset prices and corresponding probabilities at the last step\n",
    "    asset_prices=np.array([])\n",
    "    asset_prob=np.array([])\n",
    "    for i in range(0, N + 1):\n",
    "        asset_prices=np.append(asset_prices,S0*u**(N-i)*d**i)\n",
    "        asset_prob=np.append(asset_prob,math.comb(N,i)* p**(N-i)*(1-p)**i)\n",
    "\n",
    "    # Net option values at last step\n",
    "    if option_type=='call':\n",
    "        option_values=np.maximum(0,asset_prices-K)\n",
    "    elif option_type=='put':\n",
    "        option_values=np.maximum(0,K-asset_prices)\n",
    "\n",
    "    # option price\n",
    "    option_value=np.exp(-r*T)*np.dot(option_values,asset_prob)\n",
    "    return option_value"
   ]
  },
  {
   "cell_type": "code",
   "execution_count": 8,
   "id": "914e2d7a-4477-4446-8bd8-73fb2f168104",
   "metadata": {},
   "outputs": [
    {
     "name": "stdout",
     "output_type": "stream",
     "text": [
      "Call option price: 2.5126234756733314\n",
      "Put option price: 9.30291203935905\n"
     ]
    }
   ],
   "source": [
    "# An example\n",
    "S0=120   # Initial stock price\n",
    "K=130    # Strike price\n",
    "T=0.5      # Maturity time (6 months)\n",
    "r=0.05   # Risk-free interest rate (5% per annum)\n",
    "sigma=0.15  # Volatility (15% per annum)\n",
    "N=200    # Number of steps\n",
    "\n",
    "call_price=binomial_option_pricing(S0,K,T,r,sigma,N,option_type='call')\n",
    "put_price = binomial_option_pricing(S0,K,T,r,sigma,N,option_type='put')\n",
    "\n",
    "print(f\"Call option price: {call_price:}\")\n",
    "print(f\"Put option price: {put_price:}\")"
   ]
  },
  {
   "cell_type": "code",
   "execution_count": null,
   "id": "db8eedc0-fdf9-4131-8b2b-9483f2d68ad3",
   "metadata": {},
   "outputs": [],
   "source": []
  }
 ],
 "metadata": {
  "kernelspec": {
   "display_name": "Python 3 (ipykernel)",
   "language": "python",
   "name": "python3"
  },
  "language_info": {
   "codemirror_mode": {
    "name": "ipython",
    "version": 3
   },
   "file_extension": ".py",
   "mimetype": "text/x-python",
   "name": "python",
   "nbconvert_exporter": "python",
   "pygments_lexer": "ipython3",
   "version": "3.11.7"
  }
 },
 "nbformat": 4,
 "nbformat_minor": 5
}
